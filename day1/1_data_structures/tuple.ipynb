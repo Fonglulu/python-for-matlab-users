{
 "cells": [
  {
   "cell_type": "markdown",
   "id": "5bc3972a-f1f1-4841-94d1-16018a4f4664",
   "metadata": {},
   "source": [
    "# Tuple\n",
    "\n",
    "Tuples in Python are immutable sequences that can hold a collection of items. They are similar to lists but have a few key differences, such as being immutable (you cannot change their content after creation). "
   ]
  },
  {
   "cell_type": "code",
   "execution_count": null,
   "id": "fd111352-31f6-4186-abdf-7b0aa6853b53",
   "metadata": {},
   "outputs": [],
   "source": [
    "import os\n",
    "# The jupyter notebook is launched from your $HOME directory.\n",
    "# Change the working directory to the workshop directory\n",
    "# which was created in your username directory under /scratch/vp91\n",
    "os.chdir(os.path.expandvars(\"/scratch/vp91/$USER/\"))"
   ]
  },
  {
   "cell_type": "code",
   "execution_count": null,
   "id": "4eee8450-b33b-478d-b38b-6414594b9f22",
   "metadata": {},
   "outputs": [],
   "source": [
    "my_tuple = (1, 'red', 3, \"green\", 5)\n",
    "print(\"Original tuple:\", my_tuple)\n",
    "\n",
    "my_tuple = (1, 2, 3, 4, 5)\n",
    "print(\"Original tuple:\", my_tuple)"
   ]
  },
  {
   "cell_type": "markdown",
   "id": "e5dab4b8-1039-4e5a-906c-9b60b65d84fe",
   "metadata": {},
   "source": [
    "## Indexing"
   ]
  },
  {
   "cell_type": "code",
   "execution_count": null,
   "id": "e558271b-ac3b-47bd-95b5-f07b15db4bac",
   "metadata": {},
   "outputs": [],
   "source": [
    "print(my_tuple[1])\n",
    "print(my_tuple[4])\n",
    "print(my_tuple[5])"
   ]
  },
  {
   "cell_type": "code",
   "execution_count": null,
   "id": "0e8da98e-e9c5-474a-8a44-00026f4b3445",
   "metadata": {},
   "outputs": [],
   "source": [
    "my_tuple[2] = 20"
   ]
  },
  {
   "cell_type": "markdown",
   "id": "a461009f-986c-4842-9552-82eb80e7d0e0",
   "metadata": {},
   "source": [
    "## Slicing"
   ]
  },
  {
   "cell_type": "code",
   "execution_count": null,
   "id": "a4ff08d9-0f99-4181-a974-8e53e61a827c",
   "metadata": {},
   "outputs": [],
   "source": [
    "sliced_tuple = my_tuple[1:4]\n",
    "print(sliced_tuple)"
   ]
  },
  {
   "cell_type": "markdown",
   "id": "bf43e111-d407-424f-bea5-6613f8fffeec",
   "metadata": {},
   "source": [
    "## Concatenate"
   ]
  },
  {
   "cell_type": "code",
   "execution_count": null,
   "id": "4ba09b90-1c75-42f3-bf08-643d740e21fc",
   "metadata": {},
   "outputs": [],
   "source": [
    "another_tuple = (6, 7, 8)\n",
    "concatenated_tuple = my_tuple + another_tuple\n",
    "print(\"Concatenated tuple:\", concatenated_tuple)"
   ]
  },
  {
   "cell_type": "markdown",
   "id": "0b4ea850-d0cf-4fdd-ad20-19ff258880ef",
   "metadata": {},
   "source": [
    "## Repetition"
   ]
  },
  {
   "cell_type": "code",
   "execution_count": null,
   "id": "7ccfa038-4323-416b-ad4a-d9e72e332c0e",
   "metadata": {},
   "outputs": [],
   "source": [
    "repeated_tuple = my_tuple * 2\n",
    "print(\"Repeated tuple:\", repeated_tuple)"
   ]
  },
  {
   "cell_type": "markdown",
   "id": "62ccb34e-0ac8-443a-80a2-e16c91e62e97",
   "metadata": {},
   "source": [
    "## Membership"
   ]
  },
  {
   "cell_type": "code",
   "execution_count": null,
   "id": "3ab90fe2-64ba-4569-946c-04e7b209bf73",
   "metadata": {},
   "outputs": [],
   "source": [
    "exists = 3 in my_tuple\n",
    "print(\"Does 3 exist in the tuple?\", exists) \n",
    "\n",
    "not_exists = 10 in my_tuple\n",
    "print(\"Does 10 exist in the tuple?\", not_exists) \n"
   ]
  },
  {
   "cell_type": "markdown",
   "id": "e434fdc9-4e50-4c02-9c1d-bcd4f2a366e5",
   "metadata": {},
   "source": [
    "## Length"
   ]
  },
  {
   "cell_type": "code",
   "execution_count": null,
   "id": "7c5fe47c-0eb5-41b4-b58d-31658f93f80b",
   "metadata": {},
   "outputs": [],
   "source": [
    "tuple_length = len(my_tuple)\n",
    "print(\"Length of the tuple:\", tuple_length)"
   ]
  },
  {
   "cell_type": "markdown",
   "id": "ecd072c9-2b87-45ee-a8bf-7e45d9637bd0",
   "metadata": {},
   "source": [
    "## Counting"
   ]
  },
  {
   "cell_type": "code",
   "execution_count": null,
   "id": "9fe6281b-8aa6-46ff-a793-0f9fcfcf7ef1",
   "metadata": {},
   "outputs": [],
   "source": [
    "count_of_2 = my_tuple.count(2)\n",
    "print(\"Count of 2 in the tuple:\", count_of_2)"
   ]
  },
  {
   "cell_type": "markdown",
   "id": "61a3e7af-3cb4-423b-be93-c38713d10a10",
   "metadata": {},
   "source": [
    "## Indexing"
   ]
  },
  {
   "cell_type": "code",
   "execution_count": null,
   "id": "737ffef3-63f4-424e-b05f-d569dc325c65",
   "metadata": {},
   "outputs": [],
   "source": [
    "index_of_3 = my_tuple.index(3)\n",
    "print(\"Index of 3 in the tuple:\", index_of_3)"
   ]
  },
  {
   "cell_type": "code",
   "execution_count": null,
   "id": "d75602be-b91c-4cdb-aab0-a8fab0b769f1",
   "metadata": {},
   "outputs": [],
   "source": [
    "nested_tuple = (my_tuple, another_tuple)\n",
    "print(\"Nested tuple:\", nested_tuple)\n",
    "\n",
    "print(nested_tuple[0])\n",
    "print(nested_tuple[1])"
   ]
  },
  {
   "cell_type": "code",
   "execution_count": null,
   "id": "0862d703-ed7f-4ad3-ac44-83c9c6be79b4",
   "metadata": {},
   "outputs": [],
   "source": []
  }
 ],
 "metadata": {
  "kernelspec": {
   "display_name": "Python 3 (ipykernel)",
   "language": "python",
   "name": "python3"
  },
  "language_info": {
   "codemirror_mode": {
    "name": "ipython",
    "version": 3
   },
   "file_extension": ".py",
   "mimetype": "text/x-python",
   "name": "python",
   "nbconvert_exporter": "python",
   "pygments_lexer": "ipython3",
   "version": "3.11.0"
  }
 },
 "nbformat": 4,
 "nbformat_minor": 5
}
