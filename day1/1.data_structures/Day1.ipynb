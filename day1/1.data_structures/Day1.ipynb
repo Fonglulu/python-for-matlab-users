{
 "cells": [
  {
   "cell_type": "markdown",
   "id": "0f0794d2-17b2-4430-92bc-e3bbd5d10e1a",
   "metadata": {},
   "source": [
    "# Day 1 topics\n",
    "\n",
    "- [Data Types](DataTypes.ipynb)\n",
    "- [Lists](lists.ipynb)\n",
    "- [Tuples](tuple.ipynb)\n",
    "- [Dictionaries](dictionary.ipynb)\n",
    "- [Sets](Sets.ipynb)\n",
    "\n"
   ]
  },
  {
   "cell_type": "code",
   "execution_count": null,
   "id": "537b8213-87d1-491a-b13b-ddaaca6e4def",
   "metadata": {},
   "outputs": [],
   "source": []
  }
 ],
 "metadata": {
  "kernelspec": {
   "display_name": "Python 3 (ipykernel)",
   "language": "python",
   "name": "python3"
  },
  "language_info": {
   "codemirror_mode": {
    "name": "ipython",
    "version": 3
   },
   "file_extension": ".py",
   "mimetype": "text/x-python",
   "name": "python",
   "nbconvert_exporter": "python",
   "pygments_lexer": "ipython3",
   "version": "3.11.0"
  }
 },
 "nbformat": 4,
 "nbformat_minor": 5
}
