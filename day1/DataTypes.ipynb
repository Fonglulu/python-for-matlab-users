{
 "cells": [
  {
   "cell_type": "code",
   "execution_count": null,
   "id": "dfd42bd4-1857-43a5-9327-d41365851644",
   "metadata": {},
   "outputs": [],
   "source": [
    "import numpy as np"
   ]
  },
  {
   "cell_type": "markdown",
   "id": "1ed8cbfd-80f9-4e83-a55b-72114fbd5c9b",
   "metadata": {},
   "source": [
    "\n",
    "| **MATLAB**           | **Python**             | **Description**                           |\n",
    "|----------------------|------------------------|-------------------------------------------|\n",
    "| `double`             | `float`                | Floating-point numbers (default in MATLAB)|\n",
    "| `single`             | `float32`              | Single precision floating-point           |\n",
    "| `int8`, `int16`, etc.| `int`, `int8`, etc.    | Signed integers                           |\n",
    "| `uint8`, `uint16`, etc.| `uint8`, `uint16`, etc.| Unsigned integers                         |\n",
    "| `logical`            | `bool`                 | Boolean values (True/False)               |\n",
    "| `char`               | `str`                  | Character arrays / strings                |\n",
    "| `cell`               | `list`                 | Flexible, heterogeneous container         |\n",
    "| `cell`           | `tuple`           | Fixed-size, mixed-type container (like tuple)|\n",
    "| `struct`             | `dict`                 | Key-value pairs (data structures)         |\n",
    "| `table`              | `pandas.DataFrame`     | Tabular data                              |\n",
    "| `function_handle`    | `function` or `lambda` | Function references                       |                   |\n",
    "| `complex`            | `complex`              | Complex numbers                           |\n"
   ]
  },
  {
   "cell_type": "markdown",
   "id": "81920763-a598-42b7-bb0d-581e1450da15",
   "metadata": {},
   "source": [
    "## Integer\n",
    "The int type is dynamic and automatically adjusts to handle large numbers, essentially providing arbitrary precision."
   ]
  },
  {
   "cell_type": "code",
   "execution_count": null,
   "id": "95fdb6a7-cf18-40e5-bc60-9ae90cc0b244",
   "metadata": {},
   "outputs": [],
   "source": [
    "my_int = 42 # my_int = int32(42)\n",
    "print(my_int)"
   ]
  },
  {
   "cell_type": "code",
   "execution_count": null,
   "id": "6777df31-a49c-428c-b38d-deb34abfda9f",
   "metadata": {},
   "outputs": [],
   "source": [
    "my_int = 123456789012345678901234567890 # my_int = int64(1234567890123456789)\n",
    "print(my_int) "
   ]
  },
  {
   "cell_type": "markdown",
   "id": "d6e00176-32d3-499c-93c9-e47ad104e1ae",
   "metadata": {},
   "source": [
    "if you need to work with fixed-size integers similar to MATLAB's specific integer types, you can use the NumPy library."
   ]
  },
  {
   "cell_type": "code",
   "execution_count": null,
   "id": "190b3c36-4d63-4731-a460-e6527d81aa93",
   "metadata": {},
   "outputs": [],
   "source": [
    "my_int_8 = np.int8(8) # my_int_8 = int8(8)\n",
    "print(my_int_8)"
   ]
  },
  {
   "cell_type": "code",
   "execution_count": null,
   "id": "ff02386a-9d38-429c-850a-63b024ea7375",
   "metadata": {},
   "outputs": [],
   "source": [
    "my_int_16 = np.int16(8 * 2 ) # my_int_16 = int16(16)\n",
    "print(my_int_16)"
   ]
  },
  {
   "cell_type": "code",
   "execution_count": null,
   "id": "2a9c7a46-91ce-44b9-a516-1e3af83810fb",
   "metadata": {},
   "outputs": [],
   "source": [
    "my_int_32 = np.int16(8 * 4 ) # my_int_32 = int32(32)\n",
    "print(my_int_32)"
   ]
  },
  {
   "cell_type": "code",
   "execution_count": null,
   "id": "ea7ddcbc-1ce8-4e94-95a1-ce8cb8e145c0",
   "metadata": {},
   "outputs": [],
   "source": [
    "my_int_64 = np.int16(8 * 8 ) # my_int_64 = int64(64)\n",
    "print(my_int_64)"
   ]
  },
  {
   "cell_type": "markdown",
   "id": "0172b5e5-cfb0-44de-acad-e9baaaa1d6df",
   "metadata": {},
   "source": [
    "## Unsigned Integers"
   ]
  },
  {
   "cell_type": "code",
   "execution_count": null,
   "id": "5da80ab0-94e1-4b3a-a397-deac1433d701",
   "metadata": {},
   "outputs": [],
   "source": [
    "my_uint_8 = np.uint8(8) # my_int_8 = uint8(8)\n",
    "print(my_uint_8)"
   ]
  },
  {
   "cell_type": "code",
   "execution_count": null,
   "id": "195c87d7-40ed-43ce-81ff-1465d36e24db",
   "metadata": {},
   "outputs": [],
   "source": [
    "my_uint_16 = np.uint16(8 * 2 ) # my_int_16 = uint16(16)\n",
    "print(my_uint_16)"
   ]
  },
  {
   "cell_type": "code",
   "execution_count": null,
   "id": "1a24a28d-4441-4703-9cbe-6ddebe29c9cf",
   "metadata": {},
   "outputs": [],
   "source": [
    "my_uint_32 = np.uint16(8 * 4 ) # my_int_32 = uint32(32)\n",
    "print(my_uint_32)"
   ]
  },
  {
   "cell_type": "code",
   "execution_count": null,
   "id": "2db3603f-a315-4939-a0d8-4df9c5dbae6d",
   "metadata": {},
   "outputs": [],
   "source": [
    "my_uint_64 = np.uint16(8 * 8 ) # my_int_64 = uint64(64)\n",
    "print(my_uint_64)"
   ]
  },
  {
   "cell_type": "markdown",
   "id": "3ce10cb8-16b0-4789-935d-b74695b9d903",
   "metadata": {},
   "source": [
    "## Floating point opererations\n",
    "\n",
    "- **Double precision** is the default `float` in Python.\n",
    "- **Single precision** can be declared using `numpy.float32`.\n"
   ]
  },
  {
   "cell_type": "code",
   "execution_count": null,
   "id": "69e8961f-3911-40ca-a687-42441053c2f2",
   "metadata": {},
   "outputs": [],
   "source": [
    "\n",
    "my_double = 3.14 # my_double = 3.14;\n",
    "print(type(my_double))"
   ]
  },
  {
   "cell_type": "code",
   "execution_count": null,
   "id": "b0277ffe-1df0-4c2a-ab5d-cb811fdc4aab",
   "metadata": {},
   "outputs": [],
   "source": [
    "# Single precision\n",
    "my_single = np.float32(3.14) # my_single = single(3.14);\n",
    "print(type(my_single)) "
   ]
  },
  {
   "cell_type": "markdown",
   "id": "1cd60961-0644-45ce-8f6d-fde80db5258f",
   "metadata": {},
   "source": [
    "## Strings"
   ]
  },
  {
   "cell_type": "code",
   "execution_count": null,
   "id": "8a11e561-ca36-4d77-b966-92dc629fc854",
   "metadata": {},
   "outputs": [],
   "source": [
    "\n",
    "my_string = \"Hello, world!\" # my_string = 'Hello, world!';\n",
    "print(my_string) # disp(my_string);\n"
   ]
  },
  {
   "cell_type": "markdown",
   "id": "72809d7f-1325-43a2-a677-a61f06e023b9",
   "metadata": {},
   "source": [
    "## Boolean"
   ]
  },
  {
   "cell_type": "code",
   "execution_count": 29,
   "id": "7bf6190a-8c8a-4824-91c5-ec1bfcd5f568",
   "metadata": {},
   "outputs": [],
   "source": [
    "my_bool = True # my_bool = true"
   ]
  },
  {
   "cell_type": "code",
   "execution_count": null,
   "id": "4e36f246-d6b7-4f15-bb66-fdb1f182d588",
   "metadata": {},
   "outputs": [],
   "source": []
  }
 ],
 "metadata": {
  "kernelspec": {
   "display_name": "Python 3 (ipykernel)",
   "language": "python",
   "name": "python3"
  },
  "language_info": {
   "codemirror_mode": {
    "name": "ipython",
    "version": 3
   },
   "file_extension": ".py",
   "mimetype": "text/x-python",
   "name": "python",
   "nbconvert_exporter": "python",
   "pygments_lexer": "ipython3",
   "version": "3.11.0"
  }
 },
 "nbformat": 4,
 "nbformat_minor": 5
}
