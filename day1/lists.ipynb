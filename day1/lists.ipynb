{
 "cells": [
  {
   "cell_type": "markdown",
   "id": "663869d7-0e9c-4064-9fff-47a5d5fd7e17",
   "metadata": {},
   "source": [
    "# Lists\n",
    "In Python, lists are versatile data structures that can hold elements of any data type (integers, strings, other lists, etc.). They are mutable, meaning their content can be changed after creation"
   ]
  },
  {
   "cell_type": "code",
   "execution_count": null,
   "id": "74917081-ddfd-40c7-8936-7fa59a844fb9",
   "metadata": {},
   "outputs": [],
   "source": [
    "my_list = [1, 2, 3, 'apple', 'banana', [4, 5, 6]]\n",
    "# my_list = {1, 2, 3, 'apple', 'banana', {4, 5, 6}};"
   ]
  },
  {
   "cell_type": "code",
   "execution_count": null,
   "id": "b0e6c1f6-3077-4312-aebe-d9bb805b9b77",
   "metadata": {},
   "outputs": [],
   "source": [
    "two_d_list = [\n",
    "    [1, 2, 3],\n",
    "    [4, 5, 6],\n",
    "    [7, 8, 9]\n",
    "]"
   ]
  },
  {
   "cell_type": "markdown",
   "id": "fc797439-1e15-4da6-818c-527452197bac",
   "metadata": {},
   "source": [
    "## Indexing"
   ]
  },
  {
   "cell_type": "code",
   "execution_count": null,
   "id": "b2847449-df1b-4af8-b302-302e245966cd",
   "metadata": {},
   "outputs": [],
   "source": [
    "# Indexing starts from 0\n",
    "\n",
    "print(my_list[0])  # disp(my_list{1});\n",
    "print(my_list[3])  # disp(my_list{4});\n",
    "print(my_list[5])  # disp(my_list{6});\n",
    "\n"
   ]
  },
  {
   "cell_type": "code",
   "execution_count": null,
   "id": "8be621f1-5683-4440-b8ed-ad0153208f45",
   "metadata": {},
   "outputs": [],
   "source": [
    "# Accessing elements in a 2D list\n",
    "print(matrix[0])\n",
    "print(matrix[0][0])  \n",
    "print(matrix[1][2])  "
   ]
  },
  {
   "cell_type": "markdown",
   "id": "caebea48-95bd-40e4-a6f2-f298548b8253",
   "metadata": {},
   "source": [
    "## Modifying a List"
   ]
  },
  {
   "cell_type": "code",
   "execution_count": null,
   "id": "22ababf9-2b65-4a55-be3d-457d905998ae",
   "metadata": {},
   "outputs": [],
   "source": [
    "# Modifying an element\n",
    "my_list[1] = 'orange' # my_list{2} = 'orange';\n",
    "print(my_list)  # disp(my_list); \n"
   ]
  },
  {
   "cell_type": "code",
   "execution_count": null,
   "id": "cef4b689-621f-4433-a8ea-f17988cfbd42",
   "metadata": {},
   "outputs": [],
   "source": [
    "# Adding a new element\n",
    "my_list.append('grapes') # my_list{end+1} = 'grapes';\n",
    "print(my_list)  "
   ]
  },
  {
   "cell_type": "code",
   "execution_count": null,
   "id": "e6f2c291-3897-4a96-bdb9-55b5eeee6d71",
   "metadata": {},
   "outputs": [],
   "source": [
    "\n",
    "# Inserts an element at a specified index in the list.\n",
    "print(my_list)\n",
    "my_list.insert(1, 'apple') # my_list = [my_list(1), {'apple'}, my_list(2:end)];\n",
    "print(my_list)"
   ]
  },
  {
   "cell_type": "code",
   "execution_count": null,
   "id": "43899319-a6c0-4b00-8af2-0b95406cbe41",
   "metadata": {},
   "outputs": [],
   "source": [
    "# append vs extend\n",
    "\n",
    "my_list = ['apple', 'banana']\n",
    "my_list.append([1, 2, 3])\n",
    "print(my_list)\n",
    "\n",
    "my_list = ['apple', 'banana']\n",
    "my_list.extend([1, 2, 3])\n",
    "print(my_list)\n"
   ]
  },
  {
   "cell_type": "markdown",
   "id": "86ba490a-69c8-4151-8f55-166ae518b7e8",
   "metadata": {},
   "source": [
    "In Python, both `append()` and `extend()` are used to add elements to a list, but they work in different ways.\n",
    "\n",
    "- `append()` adds its argument as a single element to the list.\n",
    "- `extend()` adds each element of its argument to the list individually."
   ]
  },
  {
   "cell_type": "markdown",
   "id": "785089e5-ad36-439e-8a71-5ede287fb77f",
   "metadata": {},
   "source": [
    "## Remove elements"
   ]
  },
  {
   "cell_type": "code",
   "execution_count": null,
   "id": "ede98c9e-9525-4644-a497-0c9287173b26",
   "metadata": {},
   "outputs": [],
   "source": [
    "my_list = ['banana', 'banana', 'apple', 'orange', 'green', 'red']\n",
    "# Remove first occurance of an element an element\n",
    "my_list.remove('banana') \n",
    "print(my_list) "
   ]
  },
  {
   "cell_type": "code",
   "execution_count": null,
   "id": "f56c69da-8363-4a30-b0b2-955ba888bc13",
   "metadata": {},
   "outputs": [],
   "source": [
    "print(my_list)\n",
    "elt = my_list.pop()\n",
    "print(elt)\n",
    "print(my_list) "
   ]
  },
  {
   "cell_type": "code",
   "execution_count": null,
   "id": "006fb4dc-8332-4e28-b3ab-9ff18331e060",
   "metadata": {},
   "outputs": [],
   "source": [
    "print(my_list)\n",
    "elt = my_list.pop(1)\n",
    "print(elt)\n",
    "print(my_list)"
   ]
  },
  {
   "cell_type": "code",
   "execution_count": null,
   "id": "4d17d04a-1260-40d3-93fa-de992f26854b",
   "metadata": {},
   "outputs": [],
   "source": [
    "print(my_list)\n",
    "my_list.clear()\n",
    "print(my_list)"
   ]
  },
  {
   "cell_type": "markdown",
   "id": "7e9d73c1-dc12-4ba3-b7c1-69e03a7b681b",
   "metadata": {},
   "source": [
    "### Concatenate lists"
   ]
  },
  {
   "cell_type": "code",
   "execution_count": null,
   "id": "c0029b67-5b3e-4995-8c8f-ded10e46eb8a",
   "metadata": {},
   "outputs": [],
   "source": [
    "list1 = [1, 2, 3]\n",
    "list2 = ['a', 'b', 'c']\n",
    "new_list = list1 + list2\n",
    "print(new_list)"
   ]
  },
  {
   "cell_type": "markdown",
   "id": "f47fb7ce-2e15-4fd5-adf8-9b1d895feaa9",
   "metadata": {},
   "source": [
    "## Repeat Lists"
   ]
  },
  {
   "cell_type": "code",
   "execution_count": null,
   "id": "8123eafa-934d-4084-8d00-2afaee69b6ec",
   "metadata": {},
   "outputs": [],
   "source": [
    "repeated_list = new_list * 2\n",
    "print(repeated_list)"
   ]
  },
  {
   "cell_type": "markdown",
   "id": "55da4b78-df00-4f1e-a414-83f530aa81fc",
   "metadata": {},
   "source": [
    "## Length"
   ]
  },
  {
   "cell_type": "code",
   "execution_count": null,
   "id": "eac7f8ed-b3a9-4718-9ef9-3e564d034501",
   "metadata": {},
   "outputs": [],
   "source": [
    "print(my_list)\n",
    "print(len(my_list))"
   ]
  },
  {
   "cell_type": "code",
   "execution_count": null,
   "id": "5b420a18-d35d-4c4d-a33a-2c3b77ee4776",
   "metadata": {},
   "outputs": [],
   "source": [
    "## Search / Membership"
   ]
  },
  {
   "cell_type": "code",
   "execution_count": null,
   "id": "1f8dc4ac-b1a5-4bb4-8ecd-4409a611603a",
   "metadata": {},
   "outputs": [],
   "source": [
    "first = 'apple' in my_list\n",
    "second = 'mango' in my_list\n",
    "\n",
    "print(first)\n",
    "print(second)"
   ]
  },
  {
   "cell_type": "markdown",
   "id": "24173000-cec5-43bb-9015-51238135c3f8",
   "metadata": {},
   "source": [
    "## Reorder Lists"
   ]
  },
  {
   "cell_type": "code",
   "execution_count": null,
   "id": "9602d2d4-1d79-4ffa-b404-cb10f20bb889",
   "metadata": {},
   "outputs": [],
   "source": [
    "my_list = [1, 223, -22, 43, 0]\n",
    "print(my_list)\n",
    "\n",
    "my_list.sort() # Modification is inplace\n",
    "print(my_list)"
   ]
  },
  {
   "cell_type": "code",
   "execution_count": null,
   "id": "9af41413-8665-40bb-809e-b45f808c97cb",
   "metadata": {},
   "outputs": [],
   "source": [
    "my_list = [1, 223, -22, 43, 0]\n",
    "print(my_list)\n",
    "\n",
    "new_list = sorted(my_list) # Modification is not inplace\n",
    "print(my_list)\n",
    "print(new_list)"
   ]
  },
  {
   "cell_type": "code",
   "execution_count": null,
   "id": "cca99e5f-d460-4ad4-a488-c935a421ef26",
   "metadata": {},
   "outputs": [],
   "source": [
    "my_list = [1, 223, -22, 43, 0]\n",
    "print(my_list)\n",
    "\n",
    "my_list.sort(reverse=True) # Modification is inplace\n",
    "print(my_list)"
   ]
  },
  {
   "cell_type": "code",
   "execution_count": null,
   "id": "0991855a-5997-47f2-aa02-6961feb9038a",
   "metadata": {},
   "outputs": [],
   "source": [
    "my_list = [1, 223, -22, 43, 0]\n",
    "print(my_list)\n",
    "\n",
    "my_list.reverse() # Modification is inplace\n",
    "print(my_list)"
   ]
  },
  {
   "cell_type": "markdown",
   "id": "3737f1a5-de63-436b-8fb5-7a490736f553",
   "metadata": {},
   "source": [
    "## Count"
   ]
  },
  {
   "cell_type": "code",
   "execution_count": null,
   "id": "610f7f1e-d99c-41e1-bd69-d81dd82d7ced",
   "metadata": {},
   "outputs": [],
   "source": [
    "my_list = [ 'banana', 'apple', 'orange', 'banana', 'green', 'red']\n",
    "# Remove first occurance of an element an element\n",
    "c = my_list.count('banana') \n",
    "print(c)"
   ]
  },
  {
   "cell_type": "code",
   "execution_count": null,
   "id": "0088f907-bfbe-45ad-b038-af6821e8b643",
   "metadata": {},
   "outputs": [],
   "source": [
    "my_list = [ 'banana', 'apple', 'orange', 'banana', 'green', 'red']\n",
    "# Remove first occurance of an element an element\n",
    "c = my_list.count('green') \n",
    "print(c)"
   ]
  },
  {
   "cell_type": "code",
   "execution_count": null,
   "id": "7fa74bf2-bad7-484c-9fce-cd769a0b94ab",
   "metadata": {},
   "outputs": [],
   "source": [
    "my_list = [ 'banana', 'apple', 'orange', 'banana', 'green', 'red']\n",
    "# Remove first occurance of an element an element\n",
    "c = my_list.count('black') \n",
    "print(c)"
   ]
  },
  {
   "cell_type": "markdown",
   "id": "ac50c027-4a36-482e-96e6-073031582b18",
   "metadata": {},
   "source": [
    "## Index"
   ]
  },
  {
   "cell_type": "code",
   "execution_count": null,
   "id": "cda0b930-d37a-401e-ac9a-e221d7030ed2",
   "metadata": {},
   "outputs": [],
   "source": [
    "my_list = [ 'banana', 'apple', 'orange', 'banana', 'green', 'red']\n",
    "# Remove first occurance of an element an element\n",
    "c = my_list.index('banana') \n",
    "print(c)"
   ]
  },
  {
   "cell_type": "markdown",
   "id": "82a0c82a-0c28-4b1a-888d-fe1054e8157f",
   "metadata": {},
   "source": [
    "## Shallow and Deep copy"
   ]
  },
  {
   "cell_type": "code",
   "execution_count": null,
   "id": "65b35b6e-fd72-42e4-8c82-a83bd8770543",
   "metadata": {},
   "outputs": [],
   "source": [
    "import copy\n",
    "\n",
    "# Original list with nested list\n",
    "original_list = [[1, 2], [3, 4], 5]\n",
    "\n",
    "# Shallow copy\n",
    "shallow_copy = copy.copy(original_list)  \n",
    "\n",
    "\n",
    "shallow_copy[0][0] = 10\n",
    "\n",
    "shallow_copy[2] = 100\n",
    "\n",
    "print(\"Original list:\", original_list)  \n",
    "print(\"Shallow copy:\", shallow_copy)   \n"
   ]
  },
  {
   "cell_type": "markdown",
   "id": "8dfd5e3b-2b1b-42de-b332-f4368704d4d7",
   "metadata": {},
   "source": [
    "A shallow copy creates a new list, but it only copies the references to the elements in the original list. If the list contains other lists (or mutable objects), the shallow copy will still reference those inner objects, meaning changes to the inner objects will affect both lists.\n",
    "\n",
    "`copy.copy(original_list)` is same as `original_list.copy()`."
   ]
  },
  {
   "cell_type": "code",
   "execution_count": null,
   "id": "f1f1c12f-da31-422c-b071-277288ebf81f",
   "metadata": {},
   "outputs": [],
   "source": [
    "import copy\n",
    "\n",
    "# Original list with nested list\n",
    "original_list = [[1, 2], [3, 4], 5]\n",
    "\n",
    "# Deep copy\n",
    "deep_copy = copy.deepcopy(original_list)\n",
    "\n",
    "\n",
    "deep_copy[0][0] = 10\n",
    "\n",
    "deep_copy[2] = 100\n",
    "\n",
    "print(\"Original list:\", original_list)  \n",
    "print(\"Deep copy:\", deep_copy)         "
   ]
  },
  {
   "cell_type": "markdown",
   "id": "f55e658d-68bf-46c5-9f24-7fb882217c28",
   "metadata": {},
   "source": [
    "## List slicing\n",
    "\n",
    "List slicing in Python allows you to extract parts of a list or sublists based on specified indices. In the case of a 2D list (like the matrix in your example), slicing can be used to access rows, parts of rows, or even specific columns."
   ]
  },
  {
   "cell_type": "code",
   "execution_count": null,
   "id": "ad08cdb3-4e81-4678-8ce6-4825aa1980da",
   "metadata": {},
   "outputs": [],
   "source": [
    "two_d_list = [\n",
    "    [1, 2, 3, 4, 5],\n",
    "    [6, 7, 8, 9, 10],\n",
    "    [11, 12, 13, 14, 15]\n",
    "]\n",
    "\n",
    "print(two_d_list)"
   ]
  },
  {
   "cell_type": "code",
   "execution_count": null,
   "id": "a1b9469d-051a-48cb-8fb8-e5c6a4721c48",
   "metadata": {},
   "outputs": [],
   "source": [
    "# Get the first row\n",
    "first_row = two_d_list[0]\n",
    "print(first_row)  \n",
    "\n",
    "# Get the second row\n",
    "second_row = two_d_list[1]\n",
    "print(second_row)  \n"
   ]
  },
  {
   "cell_type": "code",
   "execution_count": null,
   "id": "ad839cf4-abe7-4717-86d9-52474cd3b774",
   "metadata": {},
   "outputs": [],
   "source": [
    "slice_row = two_d_list[1][:]\n",
    "print(slice_row) \n",
    "\n",
    "slice_row = two_d_list[1][:2]\n",
    "print(slice_row) \n",
    "\n",
    "slice_row = two_d_list[1][1:4]\n",
    "print(slice_row)\n"
   ]
  },
  {
   "cell_type": "code",
   "execution_count": null,
   "id": "9e134eef-ba25-4562-bcd0-153ad1a79d96",
   "metadata": {},
   "outputs": [],
   "source": []
  }
 ],
 "metadata": {
  "kernelspec": {
   "display_name": "Python 3 (ipykernel)",
   "language": "python",
   "name": "python3"
  },
  "language_info": {
   "codemirror_mode": {
    "name": "ipython",
    "version": 3
   },
   "file_extension": ".py",
   "mimetype": "text/x-python",
   "name": "python",
   "nbconvert_exporter": "python",
   "pygments_lexer": "ipython3",
   "version": "3.11.0"
  }
 },
 "nbformat": 4,
 "nbformat_minor": 5
}
