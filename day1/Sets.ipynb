{
 "cells": [
  {
   "cell_type": "markdown",
   "id": "6afab8e4-3d23-4746-90fc-8e3b838328bd",
   "metadata": {},
   "source": [
    "# Sets\n",
    "Sets in Python are unordered collections of unique elements. They are useful for performing mathematical set operations like union, intersection, difference, and more. Below is an example of creating a set and performing various operations on it."
   ]
  },
  {
   "cell_type": "code",
   "execution_count": null,
   "id": "c52ddc71-69a5-41d4-a3a8-881abedc33fc",
   "metadata": {},
   "outputs": [],
   "source": [
    "import os\n",
    "# The jupyter notebook is launched from your $HOME directory.\n",
    "# Change the working directory to the workshop directory\n",
    "# which was created in your username directory under /scratch/vp91\n",
    "os.chdir(os.path.expandvars(\"/scratch/vp91/$USER/\"))"
   ]
  },
  {
   "cell_type": "code",
   "execution_count": null,
   "id": "227784bd-8d0c-428a-bf90-923b3729dca8",
   "metadata": {},
   "outputs": [],
   "source": [
    "my_set = {1, 2, 3, 4, 5}\n",
    "print(my_set)"
   ]
  },
  {
   "cell_type": "markdown",
   "id": "5e1171c1-0789-446e-a882-b9d03e286fb8",
   "metadata": {},
   "source": [
    "## Add elements"
   ]
  },
  {
   "cell_type": "code",
   "execution_count": null,
   "id": "f0880b9c-056f-4c36-8bea-ebb5c50a152f",
   "metadata": {},
   "outputs": [],
   "source": [
    "my_set.add(6)\n",
    "print(my_set)\n",
    "\n",
    "my_set.add(6)\n",
    "print(my_set)"
   ]
  },
  {
   "cell_type": "code",
   "execution_count": null,
   "id": "93c886bf-d69f-4e42-854e-d5606c83bd7a",
   "metadata": {},
   "outputs": [],
   "source": [
    "my_set.update([7, 8, 9])\n",
    "print(my_set)"
   ]
  },
  {
   "cell_type": "markdown",
   "id": "5921125d-3081-4b57-b7af-90ed3268d56b",
   "metadata": {},
   "source": [
    "## Remove elements"
   ]
  },
  {
   "cell_type": "code",
   "execution_count": null,
   "id": "aaf2cb89-8f21-407e-85e9-fe1511ae8d4c",
   "metadata": {},
   "outputs": [],
   "source": [
    "my_set.remove(4)\n",
    "print(my_set)"
   ]
  },
  {
   "cell_type": "code",
   "execution_count": null,
   "id": "2b945b7a-3588-451f-9441-b22fb6704762",
   "metadata": {},
   "outputs": [],
   "source": [
    "my_set.remove(4)\n",
    "print(my_set)"
   ]
  },
  {
   "cell_type": "code",
   "execution_count": null,
   "id": "b282e80e-9eda-4db5-ab72-358d3a2d4cf8",
   "metadata": {},
   "outputs": [],
   "source": [
    "my_set.discard(4)\n",
    "print(my_set)"
   ]
  },
  {
   "cell_type": "markdown",
   "id": "efcbde57-74ea-4ce6-ac34-24c22be29530",
   "metadata": {},
   "source": [
    "The `discard()` method, which does not raise an error if the element is not found."
   ]
  },
  {
   "cell_type": "code",
   "execution_count": null,
   "id": "90ed473c-5232-47c6-98f5-4a4df3d949bf",
   "metadata": {},
   "outputs": [],
   "source": [
    "popped_element = my_set.pop()\n",
    "print(\"Popped element:\", popped_element)\n",
    "print(\"After popping an element:\", my_set)"
   ]
  },
  {
   "cell_type": "markdown",
   "id": "4164f34b-2cec-4086-b241-7bdb2906411d",
   "metadata": {},
   "source": [
    "## Membership"
   ]
  },
  {
   "cell_type": "code",
   "execution_count": null,
   "id": "3f552fad-6b7c-4a85-b379-bd822fec2233",
   "metadata": {},
   "outputs": [],
   "source": [
    "exists = 3 in my_set\n",
    "print(\"Does 3 exist in the set?\", exists)  \n",
    "\n",
    "not_exists = 10 in my_set\n",
    "print(\"Does 10 exist in the set?\", not_exists)"
   ]
  },
  {
   "cell_type": "markdown",
   "id": "df3d1d8a-379a-468b-96a5-f952575ac9d4",
   "metadata": {},
   "source": [
    "## Length"
   ]
  },
  {
   "cell_type": "code",
   "execution_count": null,
   "id": "1ae7cedc-a260-461c-bc19-fe6e7e9a19f1",
   "metadata": {},
   "outputs": [],
   "source": [
    "set_length = len(my_set)\n",
    "print(\"Length of the set:\", set_length)"
   ]
  },
  {
   "cell_type": "markdown",
   "id": "1294827b-0b24-409d-b7fa-e2f1c3b8e180",
   "metadata": {},
   "source": [
    "## Set Operations"
   ]
  },
  {
   "cell_type": "code",
   "execution_count": null,
   "id": "993feb01-2947-4fa4-bc1e-1408f4bfb30a",
   "metadata": {},
   "outputs": [],
   "source": [
    "my_set = {1, 2, 3, 4, 5}\n",
    "another_set = {5, 6, 7, 8, 9, 10}"
   ]
  },
  {
   "cell_type": "markdown",
   "id": "f0da3753-c24c-4e7a-8d04-45961f0f2ee3",
   "metadata": {},
   "source": [
    "### Union"
   ]
  },
  {
   "cell_type": "code",
   "execution_count": null,
   "id": "fbb45257-f886-4cc4-96cc-aa65ac7e3188",
   "metadata": {},
   "outputs": [],
   "source": [
    "union_set = my_set | another_set\n",
    "print(\"Union:\", union_set)  "
   ]
  },
  {
   "cell_type": "markdown",
   "id": "d1ffa65b-9be4-4c84-a070-39d8d291eb64",
   "metadata": {},
   "source": [
    "### Intersection"
   ]
  },
  {
   "cell_type": "code",
   "execution_count": null,
   "id": "f4678a07-54cf-4507-a952-5aeceb5b349e",
   "metadata": {},
   "outputs": [],
   "source": [
    "intersection_set = my_set & another_set\n",
    "print(\"Intersection:\", intersection_set) "
   ]
  },
  {
   "cell_type": "markdown",
   "id": "9e1c0490-9ab1-42ca-af32-e962999c33d6",
   "metadata": {},
   "source": [
    "### Difference: elements in my_set but not in another_set"
   ]
  },
  {
   "cell_type": "code",
   "execution_count": null,
   "id": "1408147a-961d-4772-b474-dbd035d39beb",
   "metadata": {},
   "outputs": [],
   "source": [
    "difference_set = my_set - another_set\n",
    "print(\"Difference:\", difference_set)"
   ]
  },
  {
   "cell_type": "markdown",
   "id": "59ce8c46-bd17-4561-aa9b-956a8e34c6b1",
   "metadata": {},
   "source": [
    "### Symmetric Difference: Elements in either set, but not in both\n",
    " "
   ]
  },
  {
   "cell_type": "code",
   "execution_count": null,
   "id": "f1cb3027-6bed-4b68-97e2-da43c0616dd0",
   "metadata": {},
   "outputs": [],
   "source": [
    "symmetric_difference_set = my_set ^ another_set\n",
    "print(\"Symmetric Difference:\", symmetric_difference_set)"
   ]
  },
  {
   "cell_type": "markdown",
   "id": "11e302af-06a1-446f-b1a6-fa818cdcc177",
   "metadata": {},
   "source": [
    "### Create from list"
   ]
  },
  {
   "cell_type": "code",
   "execution_count": null,
   "id": "455cd315-e0ce-4fb6-9429-de2d0fabbd02",
   "metadata": {},
   "outputs": [],
   "source": [
    "list_with_duplicates = [1, 2, 2, 3, 4, 4, 5]\n",
    "unique_set = set(list_with_duplicates)\n",
    "\n",
    "print(\"Set from list (duplicates removed):\", unique_set)"
   ]
  },
  {
   "cell_type": "code",
   "execution_count": 26,
   "id": "dbd89a85-820a-4e4f-8f37-5d95ce33c952",
   "metadata": {},
   "outputs": [
    {
     "name": "stdout",
     "output_type": "stream",
     "text": [
      "--no-graphics\t\t\t      custom_data\n",
      "CI.jpeg\t\t\t\t      gpg-key.txt\n",
      "Desktop\t\t\t\t      ondemand\n",
      "R\t\t\t\t      requirements.txt\n",
      "SPARSE_GEMM_combined_perf.jpeg\t      scikit_learn_data\n",
      "SPARSE_GEMM_speedup.jpeg\t      setup.sh\n",
      "c_programming_for_python_programmers  the_silver_searcher\n",
      "cpu.png\n"
     ]
    }
   ],
   "source": []
  },
  {
   "cell_type": "code",
   "execution_count": null,
   "id": "fc8cde92-2309-4e49-9e65-b76470a374e0",
   "metadata": {},
   "outputs": [],
   "source": []
  }
 ],
 "metadata": {
  "kernelspec": {
   "display_name": "Python 3 (ipykernel)",
   "language": "python",
   "name": "python3"
  },
  "language_info": {
   "codemirror_mode": {
    "name": "ipython",
    "version": 3
   },
   "file_extension": ".py",
   "mimetype": "text/x-python",
   "name": "python",
   "nbconvert_exporter": "python",
   "pygments_lexer": "ipython3",
   "version": "3.11.0"
  }
 },
 "nbformat": 4,
 "nbformat_minor": 5
}
