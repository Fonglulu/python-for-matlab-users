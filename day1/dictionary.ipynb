{
 "cells": [
  {
   "cell_type": "markdown",
   "id": "ad47942f-c0e1-4030-88ee-611a618bca35",
   "metadata": {},
   "source": [
    "# Dictionary\n",
    "\n",
    "Dictionaries in Python are mutable, unordered collections of key-value pairs. They are widely used for storing and retrieving data based on keys. Here’s how to create a dictionary and perform various operations on it.\n"
   ]
  },
  {
   "cell_type": "code",
   "execution_count": null,
   "id": "10c69432-111e-48da-803d-00296e997b51",
   "metadata": {},
   "outputs": [],
   "source": [
    "my_dict = {\n",
    "    \"name\": \"Alice\",\n",
    "    \"age\": 30,\n",
    "    \"city\": \"New York\",\n",
    "    \"hobbies\": [\"reading\", \"travelling\", \"swimming\"]\n",
    "}\n",
    "print(my_dict)"
   ]
  },
  {
   "cell_type": "markdown",
   "id": "9e3210f0-e977-4041-98e8-741bdf870ad0",
   "metadata": {},
   "source": [
    "## Indexing"
   ]
  },
  {
   "cell_type": "code",
   "execution_count": null,
   "id": "132a7989-d04a-4902-b494-ac0d67f332c1",
   "metadata": {},
   "outputs": [],
   "source": [
    "print(my_dict[\"name\"]) \n",
    "print(my_dict[\"hobbies\"])\n",
    "print(my_dict[\"age\"])"
   ]
  },
  {
   "cell_type": "markdown",
   "id": "06dff9fa-a360-4d8c-bfd5-34ccc1899596",
   "metadata": {},
   "source": [
    "## Adding or Updating Key-Value Pairs"
   ]
  },
  {
   "cell_type": "code",
   "execution_count": null,
   "id": "30554dcd-3259-43f8-be58-fd9a65a0b069",
   "metadata": {},
   "outputs": [],
   "source": [
    "# Adding a new key-value pair\n",
    "my_dict[\"occupation\"] = \"Engineer\"\n",
    "print(\"After adding occupation:\", my_dict)\n",
    "\n",
    "\n"
   ]
  },
  {
   "cell_type": "code",
   "execution_count": null,
   "id": "5fc7c5bf-0d82-4cae-8a56-b94882a9ebdd",
   "metadata": {},
   "outputs": [],
   "source": [
    "# Updating an existing key\n",
    "my_dict[\"age\"] = 31\n",
    "print(\"After updating age:\", my_dict)  "
   ]
  },
  {
   "cell_type": "markdown",
   "id": "5e44d73e-c28b-44a0-a1f9-4930bcdbf079",
   "metadata": {},
   "source": [
    "## Removing Key-Value Pairs"
   ]
  },
  {
   "cell_type": "code",
   "execution_count": null,
   "id": "a7059f77-639c-4130-9cba-5bdc48b57809",
   "metadata": {},
   "outputs": [],
   "source": [
    "# Using del\n",
    "del my_dict[\"city\"]\n",
    "print(\"After deleting city:\", my_dict)\n"
   ]
  },
  {
   "cell_type": "code",
   "execution_count": null,
   "id": "b574ba90-0e39-4522-8a6c-eb84744e9c2c",
   "metadata": {},
   "outputs": [],
   "source": [
    "# Using pop\n",
    "age = my_dict.pop(\"age\")\n",
    "print(\"After popping age:\", my_dict)  \n",
    "print(\"Popped age:\", age)  "
   ]
  },
  {
   "cell_type": "markdown",
   "id": "c07bb9ff-f44b-48e4-8765-0ad2533fa569",
   "metadata": {},
   "source": [
    "## Membership"
   ]
  },
  {
   "cell_type": "code",
   "execution_count": null,
   "id": "07ff86bd-6057-4fde-8255-ea460cca1460",
   "metadata": {},
   "outputs": [],
   "source": [
    "exists = \"name\" in my_dict\n",
    "print(\"Is 'name' a key in the dictionary?\", exists)  # Output: True\n",
    "\n",
    "not_exists = \"city\" in my_dict\n",
    "print(\"Is 'city' a key in the dictionary?\", not_exists)  # Output: False\n"
   ]
  },
  {
   "cell_type": "markdown",
   "id": "cb67a659-6762-4bda-b80c-03503972840a",
   "metadata": {},
   "source": [
    "## Getting All Keys and Values"
   ]
  },
  {
   "cell_type": "code",
   "execution_count": null,
   "id": "11d2b7d6-4eaf-44af-b4b3-34cb4057874d",
   "metadata": {},
   "outputs": [],
   "source": [
    "keys = my_dict.keys()\n",
    "print(\"Keys:\", list(keys))    "
   ]
  },
  {
   "cell_type": "code",
   "execution_count": null,
   "id": "5eb3b072-5f14-49d0-b51f-1aad9b802357",
   "metadata": {},
   "outputs": [],
   "source": [
    "values = my_dict.values()\n",
    "print(\"Values:\", list(values))"
   ]
  },
  {
   "cell_type": "code",
   "execution_count": null,
   "id": "2e70bff0-657f-41a7-885b-4b971f1eba37",
   "metadata": {},
   "outputs": [],
   "source": [
    "items = my_dict.items()\n",
    "print(items)  "
   ]
  },
  {
   "cell_type": "code",
   "execution_count": null,
   "id": "fb46888b-e7bb-40e1-88f8-d0c4fb2f4cf8",
   "metadata": {},
   "outputs": [],
   "source": [
    "items = list(items)\n",
    "print(items)"
   ]
  },
  {
   "cell_type": "code",
   "execution_count": null,
   "id": "2a1dc40e-c9b2-4dea-b5bb-fcd08d292240",
   "metadata": {},
   "outputs": [],
   "source": [
    "print(items[0])\n",
    "print(items[1])"
   ]
  },
  {
   "cell_type": "markdown",
   "id": "f10de785-31f0-445f-b395-4f03e918fa2a",
   "metadata": {},
   "source": [
    "## Merging"
   ]
  },
  {
   "cell_type": "code",
   "execution_count": null,
   "id": "e8f764a6-594b-4ad9-b9b0-6fd8a35c90eb",
   "metadata": {},
   "outputs": [],
   "source": [
    "my_dict = {\n",
    "    \"name\": \"Alice\",\n",
    "    \"age\": 30,\n",
    "    \"city\": \"New York\",\n",
    "    \"hobbies\": [\"reading\", \"travelling\", \"swimming\"]\n",
    "}\n",
    "\n",
    "another_dict = {\n",
    "    \"email\": \"alice@example.com\",\n",
    "    \"age\": 31  # This will update the age in my_dict_copy\n",
    "}\n",
    "\n",
    "# Using update\n",
    "my_dict.update(another_dict)\n",
    "\n",
    "print(my_dict)"
   ]
  },
  {
   "cell_type": "code",
   "execution_count": null,
   "id": "ddc69ce3-7611-456b-8a4c-13cffdf3296d",
   "metadata": {},
   "outputs": [],
   "source": [
    "my_dict = {\n",
    "    \"name\": \"Alice\",\n",
    "    \"age\": 30,\n",
    "    \"city\": \"New York\",\n",
    "    \"hobbies\": [\"reading\", \"travelling\", \"swimming\"]\n",
    "}\n",
    "\n",
    "another_dict = {\n",
    "    \"email\": \"alice@example.com\",\n",
    "    \"age\": 31  # This will update the age in my_dict_copy\n",
    "}\n",
    "\n",
    "# Using update\n",
    "merged_dict = my_dict | another_dict\n",
    "\n",
    "print(my_dict)"
   ]
  },
  {
   "cell_type": "markdown",
   "id": "5d0d1f03-1914-47fd-98a3-1e23e239b1c7",
   "metadata": {},
   "source": [
    "# Excercise"
   ]
  },
  {
   "cell_type": "markdown",
   "id": "2f81ca58-1066-43b8-be54-c75d1250e802",
   "metadata": {},
   "source": [
    "1. Create a list of 3 datapoints\n",
    "2. Each student datapoint is a dictionary \n",
    "   1. Location {str: tuple(latitude, longitude)}\n",
    "   2. Country {str: str}\n",
    "   3. Feature {str: List[pressure, temp, wind]}\n"
   ]
  },
  {
   "cell_type": "code",
   "execution_count": null,
   "id": "5b513ede-57e8-43c9-85a2-00e25e5d2851",
   "metadata": {},
   "outputs": [],
   "source": []
  }
 ],
 "metadata": {
  "kernelspec": {
   "display_name": "Python 3 (ipykernel)",
   "language": "python",
   "name": "python3"
  },
  "language_info": {
   "codemirror_mode": {
    "name": "ipython",
    "version": 3
   },
   "file_extension": ".py",
   "mimetype": "text/x-python",
   "name": "python",
   "nbconvert_exporter": "python",
   "pygments_lexer": "ipython3",
   "version": "3.11.0"
  }
 },
 "nbformat": 4,
 "nbformat_minor": 5
}
